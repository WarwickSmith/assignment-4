{
 "cells": [
  {
   "cell_type": "code",
   "execution_count": 1,
   "id": "931baf51-500e-4266-91e9-5533a728e5e0",
   "metadata": {
    "tags": []
   },
   "outputs": [
    {
     "name": "stdin",
     "output_type": "stream",
     "text": [
      "Press Enter to throw the coin... \n"
     ]
    },
    {
     "name": "stdout",
     "output_type": "stream",
     "text": [
      "Coin shows: 1\n",
      "Current position: 2\n"
     ]
    },
    {
     "name": "stdin",
     "output_type": "stream",
     "text": [
      "Press Enter to throw the coin... \n"
     ]
    },
    {
     "name": "stdout",
     "output_type": "stream",
     "text": [
      "Coin shows: 1\n",
      "Current position: 3\n"
     ]
    },
    {
     "name": "stdin",
     "output_type": "stream",
     "text": [
      "Press Enter to throw the coin... \n"
     ]
    },
    {
     "name": "stdout",
     "output_type": "stream",
     "text": [
      "Coin shows: 1\n",
      "Current position: 4\n"
     ]
    },
    {
     "name": "stdin",
     "output_type": "stream",
     "text": [
      "Press Enter to throw the coin... \n"
     ]
    },
    {
     "name": "stdout",
     "output_type": "stream",
     "text": [
      "Coin shows: 1\n",
      "Current position: 5\n"
     ]
    },
    {
     "name": "stdin",
     "output_type": "stream",
     "text": [
      "Press Enter to throw the coin... \n"
     ]
    },
    {
     "name": "stdout",
     "output_type": "stream",
     "text": [
      "Coin shows: 2\n",
      "Current position: 7\n"
     ]
    },
    {
     "name": "stdin",
     "output_type": "stream",
     "text": [
      "Press Enter to throw the coin... \n"
     ]
    },
    {
     "name": "stdout",
     "output_type": "stream",
     "text": [
      "Coin shows: 1\n",
      "Current position: 8\n"
     ]
    },
    {
     "name": "stdin",
     "output_type": "stream",
     "text": [
      "Press Enter to throw the coin... \n"
     ]
    },
    {
     "name": "stdout",
     "output_type": "stream",
     "text": [
      "Coin shows: 1\n",
      "Current position: 9\n"
     ]
    },
    {
     "name": "stdin",
     "output_type": "stream",
     "text": [
      "Press Enter to throw the coin... \n"
     ]
    },
    {
     "name": "stdout",
     "output_type": "stream",
     "text": [
      "Coin shows: 2\n",
      "Current position: 11\n"
     ]
    },
    {
     "name": "stdin",
     "output_type": "stream",
     "text": [
      "Press Enter to throw the coin... \n"
     ]
    },
    {
     "name": "stdout",
     "output_type": "stream",
     "text": [
      "Coin shows: 2\n",
      "Current position: 13\n"
     ]
    },
    {
     "name": "stdin",
     "output_type": "stream",
     "text": [
      "Press Enter to throw the coin... \n"
     ]
    },
    {
     "name": "stdout",
     "output_type": "stream",
     "text": [
      "Coin shows: 1\n",
      "Current position: 14\n"
     ]
    },
    {
     "name": "stdin",
     "output_type": "stream",
     "text": [
      "Press Enter to throw the coin... \n"
     ]
    },
    {
     "name": "stdout",
     "output_type": "stream",
     "text": [
      "Coin shows: 1\n",
      "Current position: 15\n"
     ]
    },
    {
     "name": "stdin",
     "output_type": "stream",
     "text": [
      "Press Enter to throw the coin... \n"
     ]
    },
    {
     "name": "stdout",
     "output_type": "stream",
     "text": [
      "Coin shows: 1\n",
      "Current position: 16\n"
     ]
    },
    {
     "name": "stdin",
     "output_type": "stream",
     "text": [
      "Press Enter to throw the coin... \n"
     ]
    },
    {
     "name": "stdout",
     "output_type": "stream",
     "text": [
      "Coin shows: 2\n",
      "Current position: 18\n"
     ]
    },
    {
     "name": "stdin",
     "output_type": "stream",
     "text": [
      "Press Enter to throw the coin... \n"
     ]
    },
    {
     "name": "stdout",
     "output_type": "stream",
     "text": [
      "Coin shows: 1\n",
      "Current position: 19\n"
     ]
    },
    {
     "name": "stdin",
     "output_type": "stream",
     "text": [
      "Press Enter to throw the coin... \n"
     ]
    },
    {
     "name": "stdout",
     "output_type": "stream",
     "text": [
      "Coin shows: 2\n",
      "Current position: 21\n"
     ]
    },
    {
     "name": "stdin",
     "output_type": "stream",
     "text": [
      "Press Enter to throw the coin... \n"
     ]
    },
    {
     "name": "stdout",
     "output_type": "stream",
     "text": [
      "Coin shows: 2\n",
      "Current position: 23\n"
     ]
    },
    {
     "name": "stdin",
     "output_type": "stream",
     "text": [
      "Press Enter to throw the coin... \n"
     ]
    },
    {
     "name": "stdout",
     "output_type": "stream",
     "text": [
      "Coin shows: 2\n",
      "Current position: 25\n"
     ]
    }
   ],
   "source": [
    "#I will be writing two codes in this. one will simulate this game to provide me a better hands on apprach and allow me to get a feel for the question. The second code will allow me to start calculating probability. \n",
    "\n",
    "import random\n",
    "\n",
    "def throw_coin():\n",
    "    return random.randint(1, 2)\n",
    "\n",
    "def take_steps(current_position, steps):\n",
    "    return current_position + steps\n",
    "\n",
    "def simulate():\n",
    "    current_position = 1  # Start at step 1\n",
    "    while True:\n",
    "        input(\"Press Enter to throw the coin...\")\n",
    "        steps = throw_coin()\n",
    "        current_position = take_steps(current_position, steps)\n",
    "        print(\"Coin shows:\", steps)\n",
    "        print(\"Current position:\", current_position)\n",
    "        if current_position >= 25:\n",
    "            break\n",
    "            \n",
    "\n",
    "simulate()\n"
   ]
  },
  {
   "cell_type": "code",
   "execution_count": 1,
   "id": "5e6678d7-129c-49f8-894e-efa2f24d9100",
   "metadata": {
    "tags": []
   },
   "outputs": [
    {
     "name": "stdout",
     "output_type": "stream",
     "text": [
      "The probability of stepping on number 25 is approximately: 0.666476\n"
     ]
    }
   ],
   "source": [
    "import random\n",
    "\n",
    "def throw_coin():\n",
    "    return random.randint(1, 2)\n",
    "\n",
    "def take_steps(current_position, steps):\n",
    "    return current_position + steps\n",
    "\n",
    "def simulate(num_simulations, target_number):\n",
    "    count_target = 0\n",
    "    for _ in range(num_simulations):\n",
    "        current_position = 1  # Start at step 1\n",
    "        while True:\n",
    "            steps = throw_coin()\n",
    "            current_position = take_steps(current_position, steps)\n",
    "            if current_position == target_number:\n",
    "                count_target += 1\n",
    "                break\n",
    "            elif current_position >= 25:\n",
    "                break\n",
    "    probability = count_target / num_simulations\n",
    "    return probability\n",
    "\n",
    "# Example: Simulate 1000000 times and find the probability of stepping on number 25\n",
    "num_simulations = 1000000\n",
    "target_number = 25\n",
    "probability = simulate(num_simulations, target_number)\n",
    "print(f\"The probability of stepping on number {target_number} is approximately: {probability}\")"
   ]
  },
  {
   "cell_type": "code",
   "execution_count": null,
   "id": "50b76795-e3a4-4358-abc4-870256996d2c",
   "metadata": {},
   "outputs": [],
   "source": []
  }
 ],
 "metadata": {
  "kernelspec": {
   "display_name": "Python 3 (ipykernel)",
   "language": "python",
   "name": "python3"
  },
  "language_info": {
   "codemirror_mode": {
    "name": "ipython",
    "version": 3
   },
   "file_extension": ".py",
   "mimetype": "text/x-python",
   "name": "python",
   "nbconvert_exporter": "python",
   "pygments_lexer": "ipython3",
   "version": "3.9.7"
  }
 },
 "nbformat": 4,
 "nbformat_minor": 5
}
